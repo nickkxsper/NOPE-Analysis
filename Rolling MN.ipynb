{
 "cells": [
  {
   "cell_type": "code",
   "execution_count": 7,
   "metadata": {},
   "outputs": [],
   "source": [
    "import numpy as np\n",
    "import pandas as pd\n",
    "import statsmodels.api as sm\n",
    "import scipy.stats\n",
    "import matplotlib.pyplot as plt\n",
    "import seaborn as sns \n",
    "import date_interpreter\n",
    "import datetime\n",
    "%matplotlib inline \n",
    "sns.set_style(\"whitegrid\")\n",
    "plt.rc('xtick', labelsize=15) \n",
    "plt.rc('ytick', labelsize=15) "
   ]
  },
  {
   "cell_type": "code",
   "execution_count": 4,
   "metadata": {},
   "outputs": [],
   "source": [
    "raw_nope=pd.read_csv(r'Data/Production_Data.csv',index_col=0)\n",
    "nope = pd.read_csv(r'Data/Production_Data.csv',index_col=0)\n",
    "date_interpreter.interpret_datestr(nope)"
   ]
  },
  {
   "cell_type": "code",
   "execution_count": 5,
   "metadata": {},
   "outputs": [],
   "source": [
    "nope = nope.set_index('Datetime')"
   ]
  },
  {
   "cell_type": "code",
   "execution_count": 24,
   "metadata": {},
   "outputs": [],
   "source": [
    "nope['medianabsdv'] = [scipy.stats.median_abs_deviation(nope.iloc[x-30:x]['NOPE']) for x in range(len(nope['NOPE']))]"
   ]
  },
  {
   "cell_type": "code",
   "execution_count": 25,
   "metadata": {},
   "outputs": [
    {
     "data": {
      "text/plain": [
       "<AxesSubplot:>"
      ]
     },
     "execution_count": 25,
     "metadata": {},
     "output_type": "execute_result"
    },
    {
     "data": {
      "image/png": "[encoded data removed]",
      "text/plain": [
       "<Figure size 432x288 with 1 Axes>"
      ]
     },
     "metadata": {},
     "output_type": "display_data"
    }
   ],
   "source": [
    "nope['medianabsdv'].hist()"
   ]
  },
  {
   "cell_type": "code",
   "execution_count": 38,
   "metadata": {},
   "outputs": [],
   "source": [
    "nope['filterd_medianabsdv'] = hampel(nope['medianabsdv'], 30)"
   ]
  },
  {
   "cell_type": "code",
   "execution_count": 34,
   "metadata": {},
   "outputs": [],
   "source": [
    "def hampel(vals_orig, k=7, t0=3):\n",
    "    '''\n",
    "    vals: pandas series of values from which to remove outliers\n",
    "    k: size of window (including the sample; 7 is equal to 3 on either side of value)\n",
    "    '''\n",
    "    #Make copy so original not edited\n",
    "    vals=vals_orig.copy()    \n",
    "    #Hampel Filter\n",
    "    L= 1.4826\n",
    "    rolling_median=vals.rolling(k).median()\n",
    "    difference=np.abs(rolling_median-vals)\n",
    "    median_abs_deviation=difference.rolling(k).median()\n",
    "    threshold= t0 *L * median_abs_deviation\n",
    "    outlier_idx=difference>threshold\n",
    "    vals[outlier_idx]=np.nan\n",
    "    return(vals)"
   ]
  }
 ],
 "metadata": {
  "kernelspec": {
   "display_name": "Python 3",
   "language": "python",
   "name": "python3"
  },
  "language_info": {
   "codemirror_mode": {
    "name": "ipython",
    "version": 3
   },
   "file_extension": ".py",
   "mimetype": "text/x-python",
   "name": "python",
   "nbconvert_exporter": "python",
   "pygments_lexer": "ipython3",
   "version": "3.9.0"
  }
 },
 "nbformat": 4,
 "nbformat_minor": 4
}
